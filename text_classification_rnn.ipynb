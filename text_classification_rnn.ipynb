{
  "nbformat": 4,
  "nbformat_minor": 0,
  "metadata": {
    "accelerator": "GPU",
    "colab": {
      "name": "text_classification_rnn.ipynb",
      "provenance": [],
      "collapsed_sections": [],
      "toc_visible": true
    },
    "kernelspec": {
      "display_name": "Python 3",
      "name": "python3"
    }
  },
  "cells": [
    {
      "cell_type": "code",
      "metadata": {
        "id": "z682XYsrjkY9"
      },
      "source": [
        "import numpy as np\n",
        "\n",
        "import tensorflow_datasets as tfds\n",
        "import tensorflow as tf\n",
        "\n",
        "tfds.disable_progress_bar()"
      ],
      "execution_count": 1,
      "outputs": []
    },
    {
      "cell_type": "code",
      "metadata": {
        "id": "Mp1Z7P9pYRSK"
      },
      "source": [
        "import matplotlib.pyplot as plt\n",
        "\n",
        "\n",
        "def plot_graphs(history, metric):\n",
        "  plt.plot(history.history[metric])\n",
        "  plt.plot(history.history['val_'+metric], '')\n",
        "  plt.xlabel(\"Epochs\")\n",
        "  plt.ylabel(metric)\n",
        "  plt.legend([metric, 'val_'+metric])"
      ],
      "execution_count": 2,
      "outputs": []
    },
    {
      "cell_type": "code",
      "metadata": {
        "id": "SHRwRoP2nVHX",
        "outputId": "81d93aa2-91cc-43c4-d74c-f69bae0cfcb9",
        "colab": {
          "base_uri": "https://localhost:8080/"
        }
      },
      "source": [
        "dataset, info = tfds.load('imdb_reviews', with_info=True,\n",
        "                          as_supervised=True)\n",
        "train_dataset, test_dataset = dataset['train'], dataset['test']\n",
        "\n",
        "train_dataset.element_spec"
      ],
      "execution_count": 3,
      "outputs": [
        {
          "output_type": "stream",
          "text": [
            "\u001b[1mDownloading and preparing dataset imdb_reviews/plain_text/1.0.0 (download: 80.23 MiB, generated: Unknown size, total: 80.23 MiB) to /root/tensorflow_datasets/imdb_reviews/plain_text/1.0.0...\u001b[0m\n",
            "Shuffling and writing examples to /root/tensorflow_datasets/imdb_reviews/plain_text/1.0.0.incompleteVVJAM2/imdb_reviews-train.tfrecord\n",
            "Shuffling and writing examples to /root/tensorflow_datasets/imdb_reviews/plain_text/1.0.0.incompleteVVJAM2/imdb_reviews-test.tfrecord\n",
            "Shuffling and writing examples to /root/tensorflow_datasets/imdb_reviews/plain_text/1.0.0.incompleteVVJAM2/imdb_reviews-unsupervised.tfrecord\n"
          ],
          "name": "stdout"
        },
        {
          "output_type": "stream",
          "text": [
            "WARNING:absl:Dataset is using deprecated text encoder API which will be removed soon. Please use the plain_text version of the dataset and migrate to `tensorflow_text`.\n"
          ],
          "name": "stderr"
        },
        {
          "output_type": "stream",
          "text": [
            "\u001b[1mDataset imdb_reviews downloaded and prepared to /root/tensorflow_datasets/imdb_reviews/plain_text/1.0.0. Subsequent calls will reuse this data.\u001b[0m\n"
          ],
          "name": "stdout"
        },
        {
          "output_type": "execute_result",
          "data": {
            "text/plain": [
              "(TensorSpec(shape=(), dtype=tf.string, name=None),\n",
              " TensorSpec(shape=(), dtype=tf.int64, name=None))"
            ]
          },
          "metadata": {},
          "execution_count": 3
        }
      ]
    },
    {
      "cell_type": "code",
      "metadata": {
        "id": "vd4_BGKyurao",
        "outputId": "9b78821b-7db9-4201-c357-b8b3181d2378",
        "colab": {
          "base_uri": "https://localhost:8080/"
        }
      },
      "source": [
        "for example, label in train_dataset.take(1):\n",
        "  print('text: ', example.numpy())\n",
        "  print('label: ', label.numpy())"
      ],
      "execution_count": 4,
      "outputs": [
        {
          "output_type": "stream",
          "text": [
            "text:  b\"This was an absolutely terrible movie. Don't be lured in by Christopher Walken or Michael Ironside. Both are great actors, but this must simply be their worst role in history. Even their great acting could not redeem this movie's ridiculous storyline. This movie is an early nineties US propaganda piece. The most pathetic scenes were those when the Columbian rebels were making their cases for revolutions. Maria Conchita Alonso appeared phony, and her pseudo-love affair with Walken was nothing but a pathetic emotional plug in a movie that was devoid of any real meaning. I am disappointed that there are movies like this, ruining actor's like Christopher Walken's good name. I could barely sit through it.\"\n",
            "label:  0\n"
          ],
          "name": "stdout"
        }
      ]
    },
    {
      "cell_type": "code",
      "metadata": {
        "id": "dDsCaZCDYZgm"
      },
      "source": [
        "BUFFER_SIZE = 10000\n",
        "BATCH_SIZE = 64"
      ],
      "execution_count": 5,
      "outputs": []
    },
    {
      "cell_type": "code",
      "metadata": {
        "id": "VznrltNOnUc5"
      },
      "source": [
        "train_dataset = train_dataset.shuffle(BUFFER_SIZE).batch(BATCH_SIZE).prefetch(tf.data.AUTOTUNE)\n",
        "test_dataset = test_dataset.batch(BATCH_SIZE).prefetch(tf.data.AUTOTUNE)"
      ],
      "execution_count": 6,
      "outputs": []
    },
    {
      "cell_type": "code",
      "metadata": {
        "id": "jqkvdcFv41wC",
        "outputId": "ef8404be-d56e-4c00-b6b7-5034daae7a97",
        "colab": {
          "base_uri": "https://localhost:8080/"
        }
      },
      "source": [
        "for example, label in train_dataset.take(1):\n",
        "  print('texts: ', example.numpy()[:3])\n",
        "  print()\n",
        "  print('labels: ', label.numpy()[:3])"
      ],
      "execution_count": 7,
      "outputs": [
        {
          "output_type": "stream",
          "text": [
            "texts:  [b\"This movie appears to have been made by someone with some good ideas but who also never had made a movie before nor had they considered that a script should be edited or even funny. When I saw this film, I saw it for John Candy and assumed, incorrectly, that it would be hilarious. Instead, there was a stupid plot about mind control and so many flat, unfunny moments. And, to top it off, Candy delivered some of the crudest lines I had ever heard up to that time. So, despite a potentially funny cast and story idea, we are left with an amateurish and crude movie that will probably be too stupid for the average adult, though teens will probably find a few laughs. It's really a shame--it could have been so much better. I mean, with Eugene Levy, Joe Flaherty and John Candy it SHOULD have been wonderful.\"\n",
            " b\"What a terrible film. It sucked. It was terrible. I don't know what to say about this film but DinoCrap, which I stole from some reviewer with a nail up his ass. AHAHAHAHAHHAHAHAHAHAHAHAHAHAHHAHAHAHAHAHAHAH!!!!!!!!!!!!!!!!!!! sigh.. It's not Roger Corman that I hate, it's this god-awful movie. Well, really? But what can you expect from a movie with Homoeric computer graphics. Which is another thing, the CGI sucked out loud; I hate this movie dreadfully. This is without a doubt the worst Roger Corman B-Movie, and probably the gayest B-Movie too. It's-it's--- DINOCRAP! I'm sorry, I must have offended some nerds in these moments. It's just an awful movie... 0/1,000\"\n",
            " b'Watching the first 30 minutes of Sands of Oblivion gave me high hopes. It seemed I was in for a cheaper version of the Mummy. The setup was promising, in the 1920\\'s Cecil B. Demille makes his opus of the Ten Commandments. It seems in using real Egyptian artifacts for the movie set they unleashed an ancient and terrible evil (don\\'t they always?). Aware of what had been unleashed DeMille orders the entire set buried instead of the usual practice of tearing it down. Hopefully the evil will be buried with it for all time. Then we switch to present day where a team is attempting to excavate the site (the movie\\'s first mistake, but hey those period costumes are expensive and this is a Sci-Fi channel movie). The first sightings we get of the Anubis monster are well done and it\\'s a costume that they put some effort into and not the usual cheesy CG effect. Then the body counts starts. This is were the movie went south for me. The reactions to the fact that people are dying in gruesome and strange ways gets a strangely subdued reaction. Once they realize that the ancient evil has again been unleashed and is on a killing spree what do the stock issue leading man and lady do? They make the usual stop to the \"guy who knows the truth but never told anyone\". After getting that vital information do they share it with the comrades at the dig site? No, they stop off at a hotel for a refreshing shower and some pleasant small talk. Really I\\'m not the most motivated person but if I knew a demon from ancient Egypt was on the loose and killing everyone in sight and would be coming after me I\\'d put a little hustle in my step to solve the problem. After this overlong and pointless middle section they get around to destroying the Anubis monster in the usual way, by racing around in dune buggies and shooting it with a rocket launcher while it\\'s standing by a pile of phosphorous grenades. For a Sci-Fi movie it was above the usual crap they put out, which isn\\'t saying much at all. What disappoints me is this could have been a lot more if someone had wrote a decent script for it.']\n",
            "\n",
            "labels:  [0 0 0]\n"
          ],
          "name": "stdout"
        }
      ]
    },
    {
      "cell_type": "markdown",
      "metadata": {
        "id": "s5eWCo88voPY"
      },
      "source": [
        "## Create the text encoder"
      ]
    },
    {
      "cell_type": "code",
      "metadata": {
        "id": "uC25Lu1Yvuqy"
      },
      "source": [
        "VOCAB_SIZE = 1000\n",
        "encoder = tf.keras.layers.experimental.preprocessing.TextVectorization(\n",
        "    max_tokens=VOCAB_SIZE)\n",
        "encoder.adapt(train_dataset.map(lambda text, label: text))"
      ],
      "execution_count": 8,
      "outputs": []
    },
    {
      "cell_type": "code",
      "metadata": {
        "id": "tBoyjjWg0Ac9",
        "outputId": "f49493aa-accd-4989-f98c-7fb2896094c6",
        "colab": {
          "base_uri": "https://localhost:8080/"
        }
      },
      "source": [
        "vocab = np.array(encoder.get_vocabulary())\n",
        "vocab[:20]"
      ],
      "execution_count": 9,
      "outputs": [
        {
          "output_type": "execute_result",
          "data": {
            "text/plain": [
              "array(['', '[UNK]', 'the', 'and', 'a', 'of', 'to', 'is', 'in', 'it', 'i',\n",
              "       'this', 'that', 'br', 'was', 'as', 'for', 'with', 'movie', 'but'],\n",
              "      dtype='<U14')"
            ]
          },
          "metadata": {},
          "execution_count": 9
        }
      ]
    },
    {
      "cell_type": "code",
      "metadata": {
        "id": "RGc7C9WiwRWs",
        "outputId": "93882473-08f9-49cb-f083-ace4a4b6747e",
        "colab": {
          "base_uri": "https://localhost:8080/"
        }
      },
      "source": [
        "encoded_example = encoder(example)[:3].numpy()\n",
        "encoded_example"
      ],
      "execution_count": 10,
      "outputs": [
        {
          "output_type": "execute_result",
          "data": {
            "text/plain": [
              "array([[ 11,  18, 717, ...,   0,   0,   0],\n",
              "       [ 49,   4, 384, ...,   0,   0,   0],\n",
              "       [147,   2,  86, ...,   0,   0,   0]])"
            ]
          },
          "metadata": {},
          "execution_count": 10
        }
      ]
    },
    {
      "cell_type": "code",
      "metadata": {
        "id": "N_tD0QY5wXaK",
        "outputId": "ae87ccca-813a-4d09-f6b8-a5afa377cced",
        "colab": {
          "base_uri": "https://localhost:8080/"
        }
      },
      "source": [
        "for n in range(3):\n",
        "  print(\"Original: \", example[n].numpy())\n",
        "  print(\"Round-trip: \", \" \".join(vocab[encoded_example[n]]))\n",
        "  print()"
      ],
      "execution_count": 11,
      "outputs": [
        {
          "output_type": "stream",
          "text": [
            "Original:  b\"This movie appears to have been made by someone with some good ideas but who also never had made a movie before nor had they considered that a script should be edited or even funny. When I saw this film, I saw it for John Candy and assumed, incorrectly, that it would be hilarious. Instead, there was a stupid plot about mind control and so many flat, unfunny moments. And, to top it off, Candy delivered some of the crudest lines I had ever heard up to that time. So, despite a potentially funny cast and story idea, we are left with an amateurish and crude movie that will probably be too stupid for the average adult, though teens will probably find a few laughs. It's really a shame--it could have been so much better. I mean, with Eugene Levy, Joe Flaherty and John Candy it SHOULD have been wonderful.\"\n",
            "Round-trip:  this movie appears to have been made by someone with some good ideas but who also never had made a movie before nor had they [UNK] that a script should be [UNK] or even funny when i saw this film i saw it for john [UNK] and [UNK] [UNK] that it would be hilarious instead there was a stupid plot about mind [UNK] and so many [UNK] [UNK] moments and to top it off [UNK] [UNK] some of the [UNK] lines i had ever heard up to that time so despite a [UNK] funny cast and story idea we are left with an [UNK] and [UNK] movie that will probably be too stupid for the average [UNK] though [UNK] will probably find a few laughs its really a [UNK] could have been so much better i mean with [UNK] [UNK] joe [UNK] and john [UNK] it should have been wonderful                                                                                                                                                                                                                                                                                                                                                                                                                                                                                                                                                                                                                                                                                                                                                                                                   \n",
            "\n",
            "Original:  b\"What a terrible film. It sucked. It was terrible. I don't know what to say about this film but DinoCrap, which I stole from some reviewer with a nail up his ass. AHAHAHAHAHHAHAHAHAHAHAHAHAHAHHAHAHAHAHAHAHAH!!!!!!!!!!!!!!!!!!! sigh.. It's not Roger Corman that I hate, it's this god-awful movie. Well, really? But what can you expect from a movie with Homoeric computer graphics. Which is another thing, the CGI sucked out loud; I hate this movie dreadfully. This is without a doubt the worst Roger Corman B-Movie, and probably the gayest B-Movie too. It's-it's--- DINOCRAP! I'm sorry, I must have offended some nerds in these moments. It's just an awful movie... 0/1,000\"\n",
            "Round-trip:  what a terrible film it [UNK] it was terrible i dont know what to say about this film but [UNK] which i [UNK] from some [UNK] with a [UNK] up his [UNK] [UNK] [UNK] its not [UNK] [UNK] that i hate its this [UNK] movie well really but what can you expect from a movie with [UNK] [UNK] [UNK] which is another thing the [UNK] [UNK] out [UNK] i hate this movie [UNK] this is without a doubt the worst [UNK] [UNK] [UNK] and probably the [UNK] [UNK] too [UNK] [UNK] im sorry i must have [UNK] some [UNK] in these moments its just an awful movie [UNK]                                                                                                                                                                                                                                                                                                                                                                                                                                                                                                                                                                                                                                                                                                                                                                                                                                             \n",
            "\n",
            "Original:  b'Watching the first 30 minutes of Sands of Oblivion gave me high hopes. It seemed I was in for a cheaper version of the Mummy. The setup was promising, in the 1920\\'s Cecil B. Demille makes his opus of the Ten Commandments. It seems in using real Egyptian artifacts for the movie set they unleashed an ancient and terrible evil (don\\'t they always?). Aware of what had been unleashed DeMille orders the entire set buried instead of the usual practice of tearing it down. Hopefully the evil will be buried with it for all time. Then we switch to present day where a team is attempting to excavate the site (the movie\\'s first mistake, but hey those period costumes are expensive and this is a Sci-Fi channel movie). The first sightings we get of the Anubis monster are well done and it\\'s a costume that they put some effort into and not the usual cheesy CG effect. Then the body counts starts. This is were the movie went south for me. The reactions to the fact that people are dying in gruesome and strange ways gets a strangely subdued reaction. Once they realize that the ancient evil has again been unleashed and is on a killing spree what do the stock issue leading man and lady do? They make the usual stop to the \"guy who knows the truth but never told anyone\". After getting that vital information do they share it with the comrades at the dig site? No, they stop off at a hotel for a refreshing shower and some pleasant small talk. Really I\\'m not the most motivated person but if I knew a demon from ancient Egypt was on the loose and killing everyone in sight and would be coming after me I\\'d put a little hustle in my step to solve the problem. After this overlong and pointless middle section they get around to destroying the Anubis monster in the usual way, by racing around in dune buggies and shooting it with a rocket launcher while it\\'s standing by a pile of phosphorous grenades. For a Sci-Fi movie it was above the usual crap they put out, which isn\\'t saying much at all. What disappoints me is this could have been a lot more if someone had wrote a decent script for it.'\n",
            "Round-trip:  watching the first [UNK] minutes of [UNK] of [UNK] gave me high [UNK] it seemed i was in for a [UNK] version of the [UNK] the [UNK] was [UNK] in the [UNK] [UNK] b [UNK] makes his [UNK] of the ten [UNK] it seems in using real [UNK] [UNK] for the movie set they [UNK] an [UNK] and terrible evil dont they always [UNK] of what had been [UNK] [UNK] [UNK] the entire set [UNK] instead of the usual [UNK] of [UNK] it down [UNK] the evil will be [UNK] with it for all time then we [UNK] to present day where a team is [UNK] to [UNK] the [UNK] the movies first [UNK] but [UNK] those period [UNK] are [UNK] and this is a scifi [UNK] movie the first [UNK] we get of the [UNK] monster are well done and its a [UNK] that they put some effort into and not the usual cheesy [UNK] effect then the body [UNK] starts this is were the movie went [UNK] for me the [UNK] to the fact that people are [UNK] in [UNK] and strange ways gets a [UNK] [UNK] [UNK] once they realize that the [UNK] evil has again been [UNK] and is on a killing [UNK] what do the [UNK] [UNK] leading man and lady do they make the usual stop to the guy who knows the truth but never told anyone after getting that [UNK] [UNK] do they [UNK] it with the [UNK] at the [UNK] [UNK] no they stop off at a [UNK] for a [UNK] [UNK] and some [UNK] small talk really im not the most [UNK] person but if i knew a [UNK] from [UNK] [UNK] was on the [UNK] and killing everyone in [UNK] and would be coming after me id put a little [UNK] in my [UNK] to [UNK] the problem after this [UNK] and [UNK] middle [UNK] they get around to [UNK] the [UNK] monster in the usual way by [UNK] around in [UNK] [UNK] and [UNK] it with a [UNK] [UNK] while its [UNK] by a [UNK] of [UNK] [UNK] for a scifi movie it was above the usual crap they put out which isnt saying much at all what [UNK] me is this could have been a lot more if someone had [UNK] a decent script for it                                                                                                                                                                                                                                                                                                                                                                                                                                                                                                                                                     \n",
            "\n"
          ],
          "name": "stdout"
        }
      ]
    },
    {
      "cell_type": "code",
      "metadata": {
        "id": "LwfoBkmRYcP3"
      },
      "source": [
        "model = tf.keras.Sequential([\n",
        "    encoder,\n",
        "    tf.keras.layers.Embedding(\n",
        "        input_dim=len(encoder.get_vocabulary()),\n",
        "        output_dim=64,\n",
        "        # Use masking to handle the variable sequence lengths\n",
        "        mask_zero=True),\n",
        "    tf.keras.layers.Bidirectional(tf.keras.layers.LSTM(64)),\n",
        "    tf.keras.layers.Dense(64, activation='relu'),\n",
        "    tf.keras.layers.Dense(1)\n",
        "])"
      ],
      "execution_count": 12,
      "outputs": []
    },
    {
      "cell_type": "code",
      "metadata": {
        "id": "87a8-CwfKebw",
        "outputId": "6993a3a5-cf8f-4e75-a7c6-7108f2523aec",
        "colab": {
          "base_uri": "https://localhost:8080/"
        }
      },
      "source": [
        "print([layer.supports_masking for layer in model.layers])"
      ],
      "execution_count": 13,
      "outputs": [
        {
          "output_type": "stream",
          "text": [
            "[False, True, True, True, True]\n"
          ],
          "name": "stdout"
        }
      ]
    },
    {
      "cell_type": "code",
      "metadata": {
        "id": "O41gw3KfWHus",
        "outputId": "2743369b-0c9b-4cb1-ff8c-8a47e778aea3",
        "colab": {
          "base_uri": "https://localhost:8080/"
        }
      },
      "source": [
        "# predict on a sample text without padding.\n",
        "\n",
        "sample_text = ('The movie was cool. The animation and the graphics '\n",
        "               'were out of this world. I would recommend this movie.')\n",
        "predictions = model.predict(np.array([sample_text]))\n",
        "print(predictions[0])"
      ],
      "execution_count": 14,
      "outputs": [
        {
          "output_type": "stream",
          "text": [
            "[-0.01289881]\n"
          ],
          "name": "stdout"
        }
      ]
    },
    {
      "cell_type": "code",
      "metadata": {
        "id": "UIgpuTeFNDzq",
        "outputId": "857a271e-f1d9-479b-8a1d-b26467d5b0b3",
        "colab": {
          "base_uri": "https://localhost:8080/"
        }
      },
      "source": [
        "# predict on a sample text with padding\n",
        "\n",
        "padding = \"the \" * 2000\n",
        "predictions = model.predict(np.array([sample_text, padding]))\n",
        "print(predictions[0])"
      ],
      "execution_count": 15,
      "outputs": [
        {
          "output_type": "stream",
          "text": [
            "[-0.01289881]\n"
          ],
          "name": "stdout"
        }
      ]
    },
    {
      "cell_type": "markdown",
      "metadata": {
        "id": "sRI776ZcH3Tf"
      },
      "source": [
        "Compile the Keras model to configure the training process:"
      ]
    },
    {
      "cell_type": "code",
      "metadata": {
        "id": "kj2xei41YZjC"
      },
      "source": [
        "model.compile(loss=tf.keras.losses.BinaryCrossentropy(from_logits=True),\n",
        "              optimizer=tf.keras.optimizers.Adam(1e-4),\n",
        "              metrics=['accuracy'])"
      ],
      "execution_count": 16,
      "outputs": []
    },
    {
      "cell_type": "markdown",
      "metadata": {
        "id": "zIwH3nto596k"
      },
      "source": [
        "## Train the model"
      ]
    },
    {
      "cell_type": "code",
      "metadata": {
        "id": "hw86wWS4YgR2",
        "outputId": "8ab60cd9-e207-4703-b916-fff93f3ecceb",
        "colab": {
          "base_uri": "https://localhost:8080/"
        }
      },
      "source": [
        "history = model.fit(train_dataset, epochs=10,\n",
        "                    validation_data=test_dataset,\n",
        "                    validation_steps=30)"
      ],
      "execution_count": 17,
      "outputs": [
        {
          "output_type": "stream",
          "text": [
            "Epoch 1/10\n",
            "391/391 [==============================] - 107s 251ms/step - loss: 0.6294 - accuracy: 0.5795 - val_loss: 0.4605 - val_accuracy: 0.7740\n",
            "Epoch 2/10\n",
            "391/391 [==============================] - 95s 241ms/step - loss: 0.3841 - accuracy: 0.8255 - val_loss: 0.4003 - val_accuracy: 0.7771\n",
            "Epoch 3/10\n",
            "391/391 [==============================] - 93s 237ms/step - loss: 0.3363 - accuracy: 0.8503 - val_loss: 0.3364 - val_accuracy: 0.8562\n",
            "Epoch 4/10\n",
            "391/391 [==============================] - 92s 233ms/step - loss: 0.3185 - accuracy: 0.8624 - val_loss: 0.3372 - val_accuracy: 0.8443\n",
            "Epoch 5/10\n",
            "391/391 [==============================] - 92s 233ms/step - loss: 0.3126 - accuracy: 0.8650 - val_loss: 0.3521 - val_accuracy: 0.8219\n",
            "Epoch 6/10\n",
            "391/391 [==============================] - 91s 230ms/step - loss: 0.3086 - accuracy: 0.8690 - val_loss: 0.3240 - val_accuracy: 0.8516\n",
            "Epoch 7/10\n",
            "391/391 [==============================] - 91s 232ms/step - loss: 0.3062 - accuracy: 0.8670 - val_loss: 0.3306 - val_accuracy: 0.8516\n",
            "Epoch 8/10\n",
            "391/391 [==============================] - 91s 232ms/step - loss: 0.3023 - accuracy: 0.8709 - val_loss: 0.3215 - val_accuracy: 0.8500\n",
            "Epoch 9/10\n",
            "391/391 [==============================] - 91s 231ms/step - loss: 0.2998 - accuracy: 0.8718 - val_loss: 0.3203 - val_accuracy: 0.8531\n",
            "Epoch 10/10\n",
            "391/391 [==============================] - 92s 235ms/step - loss: 0.2972 - accuracy: 0.8723 - val_loss: 0.3240 - val_accuracy: 0.8599\n"
          ],
          "name": "stdout"
        }
      ]
    },
    {
      "cell_type": "code",
      "metadata": {
        "id": "BaNbXi43YgUT",
        "outputId": "32702612-fdd4-4ca8-cccd-b8885a7ae91e",
        "colab": {
          "base_uri": "https://localhost:8080/"
        }
      },
      "source": [
        "test_loss, test_acc = model.evaluate(test_dataset)\n",
        "\n",
        "print('Test Loss:', test_loss)\n",
        "print('Test Accuracy:', test_acc)"
      ],
      "execution_count": 18,
      "outputs": [
        {
          "output_type": "stream",
          "text": [
            "391/391 [==============================] - 47s 119ms/step - loss: 0.3208 - accuracy: 0.8613\n",
            "Test Loss: 0.3207709491252899\n",
            "Test Accuracy: 0.8613200187683105\n"
          ],
          "name": "stdout"
        }
      ]
    },
    {
      "cell_type": "code",
      "metadata": {
        "id": "OZmwt_mzaQJk",
        "outputId": "83223fd5-2a51-41a4-bcca-912250a8fd4b",
        "colab": {
          "base_uri": "https://localhost:8080/",
          "height": 518
        }
      },
      "source": [
        "plt.figure(figsize=(16, 8))\n",
        "plt.subplot(1, 2, 1)\n",
        "plot_graphs(history, 'accuracy')\n",
        "plt.ylim(None, 1)\n",
        "plt.subplot(1, 2, 2)\n",
        "plot_graphs(history, 'loss')\n",
        "plt.ylim(0, None)"
      ],
      "execution_count": 19,
      "outputs": [
        {
          "output_type": "execute_result",
          "data": {
            "text/plain": [
              "(0.0, 0.646046644449234)"
            ]
          },
          "metadata": {},
          "execution_count": 19
        },
        {
          "output_type": "display_data",
          "data": {
            "image/png": "[encoded data removed]",
            "text/plain": [
              "<Figure size 1152x576 with 2 Axes>"
            ]
          },
          "metadata": {
            "needs_background": "light"
          }
        }
      ]
    },
    {
      "cell_type": "code",
      "metadata": {
        "id": "ZXgfQSgRW6zU"
      },
      "source": [
        "sample_text = ('The movie was cool. The animation and the graphics '\n",
        "               'were out of this world. I would recommend this movie.')\n",
        "predictions = model.predict(np.array([sample_text]))"
      ],
      "execution_count": 20,
      "outputs": []
    },
    {
      "cell_type": "code",
      "metadata": {
        "id": "jo1jjO3vn0jo"
      },
      "source": [
        "model = tf.keras.Sequential([\n",
        "    encoder,\n",
        "    tf.keras.layers.Embedding(len(encoder.get_vocabulary()), 64, mask_zero=True),\n",
        "    tf.keras.layers.Bidirectional(tf.keras.layers.LSTM(64,  return_sequences=True)),\n",
        "    tf.keras.layers.Bidirectional(tf.keras.layers.LSTM(32)),\n",
        "    tf.keras.layers.Dense(64, activation='relu'),\n",
        "    tf.keras.layers.Dropout(0.5),\n",
        "    tf.keras.layers.Dense(1)\n",
        "])"
      ],
      "execution_count": 21,
      "outputs": []
    },
    {
      "cell_type": "code",
      "metadata": {
        "id": "hEPV5jVGp-is"
      },
      "source": [
        "model.compile(loss=tf.keras.losses.BinaryCrossentropy(from_logits=True),\n",
        "              optimizer=tf.keras.optimizers.Adam(1e-4),\n",
        "              metrics=['accuracy'])"
      ],
      "execution_count": 22,
      "outputs": []
    },
    {
      "cell_type": "code",
      "metadata": {
        "id": "LeSE-YjdqAeN",
        "outputId": "3c052917-4fa7-427a-c440-377d92f16732",
        "colab": {
          "base_uri": "https://localhost:8080/"
        }
      },
      "source": [
        "history = model.fit(train_dataset, epochs=10,\n",
        "                    validation_data=test_dataset,\n",
        "                    validation_steps=30)"
      ],
      "execution_count": 23,
      "outputs": [
        {
          "output_type": "stream",
          "text": [
            "Epoch 1/10\n",
            "391/391 [==============================] - 197s 461ms/step - loss: 0.6314 - accuracy: 0.5791 - val_loss: 0.4542 - val_accuracy: 0.8078\n",
            "Epoch 2/10\n",
            "391/391 [==============================] - 170s 432ms/step - loss: 0.4041 - accuracy: 0.8222 - val_loss: 0.3741 - val_accuracy: 0.8417\n",
            "Epoch 3/10\n",
            "391/391 [==============================] - 170s 432ms/step - loss: 0.3565 - accuracy: 0.8476 - val_loss: 0.3566 - val_accuracy: 0.8328\n",
            "Epoch 4/10\n",
            "391/391 [==============================] - 170s 432ms/step - loss: 0.3310 - accuracy: 0.8590 - val_loss: 0.3490 - val_accuracy: 0.8380\n",
            "Epoch 5/10\n",
            "391/391 [==============================] - 170s 433ms/step - loss: 0.3185 - accuracy: 0.8636 - val_loss: 0.3340 - val_accuracy: 0.8557\n",
            "Epoch 6/10\n",
            "391/391 [==============================] - 169s 431ms/step - loss: 0.3168 - accuracy: 0.8651 - val_loss: 0.3435 - val_accuracy: 0.8604\n",
            "Epoch 7/10\n",
            "391/391 [==============================] - 170s 434ms/step - loss: 0.3065 - accuracy: 0.8701 - val_loss: 0.3304 - val_accuracy: 0.8589\n",
            "Epoch 8/10\n",
            "391/391 [==============================] - 168s 428ms/step - loss: 0.3051 - accuracy: 0.8713 - val_loss: 0.3284 - val_accuracy: 0.8500\n",
            "Epoch 9/10\n",
            "391/391 [==============================] - 170s 432ms/step - loss: 0.3037 - accuracy: 0.8728 - val_loss: 0.3278 - val_accuracy: 0.8526\n",
            "Epoch 10/10\n",
            "391/391 [==============================] - 170s 432ms/step - loss: 0.2975 - accuracy: 0.8742 - val_loss: 0.3306 - val_accuracy: 0.8589\n"
          ],
          "name": "stdout"
        }
      ]
    },
    {
      "cell_type": "code",
      "metadata": {
        "id": "_LdwilM1qPM3",
        "outputId": "74eb2029-01dc-4c0e-8dd2-054f04845ea7",
        "colab": {
          "base_uri": "https://localhost:8080/"
        }
      },
      "source": [
        "test_loss, test_acc = model.evaluate(test_dataset)\n",
        "\n",
        "print('Test Loss:', test_loss)\n",
        "print('Test Accuracy:', test_acc)"
      ],
      "execution_count": 24,
      "outputs": [
        {
          "output_type": "stream",
          "text": [
            "391/391 [==============================] - 89s 228ms/step - loss: 0.3228 - accuracy: 0.8632\n",
            "Test Loss: 0.32278135418891907\n",
            "Test Accuracy: 0.8631600141525269\n"
          ],
          "name": "stdout"
        }
      ]
    },
    {
      "cell_type": "code",
      "metadata": {
        "id": "ykUKnAoqbycW",
        "outputId": "62bd705a-e73c-40b5-a430-1f808a6f34b3",
        "colab": {
          "base_uri": "https://localhost:8080/"
        }
      },
      "source": [
        "# predict on a sample text without padding.\n",
        "\n",
        "sample_text = ('The movie was not good. The animation and the graphics '\n",
        "               'were terrible. I would not recommend this movie.')\n",
        "predictions = model.predict(np.array([sample_text]))\n",
        "print(predictions)"
      ],
      "execution_count": 25,
      "outputs": [
        {
          "output_type": "stream",
          "text": [
            "[[-1.7674457]]\n"
          ],
          "name": "stdout"
        }
      ]
    },
    {
      "cell_type": "code",
      "metadata": {
        "id": "_YYub0EDtwCu",
        "outputId": "718428af-556d-4657-b302-b9030aa24b36",
        "colab": {
          "base_uri": "https://localhost:8080/",
          "height": 388
        }
      },
      "source": [
        "plt.figure(figsize=(16, 6))\n",
        "plt.subplot(1, 2, 1)\n",
        "plot_graphs(history, 'accuracy')\n",
        "plt.subplot(1, 2, 2)\n",
        "plot_graphs(history, 'loss')"
      ],
      "execution_count": 26,
      "outputs": [
        {
          "output_type": "display_data",
          "data": {
            "image/png": "[encoded data removed]",
            "text/plain": [
              "<Figure size 1152x432 with 2 Axes>"
            ]
          },
          "metadata": {
            "needs_background": "light"
          }
        }
      ]
    }
  ]
}